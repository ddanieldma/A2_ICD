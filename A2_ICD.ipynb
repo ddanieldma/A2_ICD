{
 "cells": [
  {
   "cell_type": "code",
   "execution_count": 1,
   "metadata": {},
   "outputs": [
    {
     "name": "stderr",
     "output_type": "stream",
     "text": [
      "c:\\Users\\kauan\\OneDrive - Fundacao Getulio Vargas - FGV\\Matérias\\Introdução a ciência de dados\\A2_ICD\\ColumnDataSource.py:125: SettingWithCopyWarning: \n",
      "A value is trying to be set on a copy of a slice from a DataFrame.\n",
      "Try using .loc[row_indexer,col_indexer] = value instead\n",
      "\n",
      "See the caveats in the documentation: https://pandas.pydata.org/pandas-docs/stable/user_guide/indexing.html#returning-a-view-versus-a-copy\n",
      "  df_causas_de_morte_Brasil_grid.loc[:, 'Cor'] = df_causas_de_morte_Brasil_grid['pct_pop - pct_death'].apply(verde_ou_vermelho)\n"
     ]
    },
    {
     "data": {
      "text/html": [
       "<style>\n",
       "        .bk-notebook-logo {\n",
       "            display: block;\n",
       "            width: 20px;\n",
       "            height: 20px;\n",
       "            background-image: url(data:image/png;base64,iVBORw0KGgoAAAANSUhEUgAAABQAAAAUCAYAAACNiR0NAAAABHNCSVQICAgIfAhkiAAAAAlwSFlzAAALEgAACxIB0t1+/AAAABx0RVh0U29mdHdhcmUAQWRvYmUgRmlyZXdvcmtzIENTNui8sowAAAOkSURBVDiNjZRtaJVlGMd/1/08zzln5zjP1LWcU9N0NkN8m2CYjpgQYQXqSs0I84OLIC0hkEKoPtiH3gmKoiJDU7QpLgoLjLIQCpEsNJ1vqUOdO7ppbuec5+V+rj4ctwzd8IIbbi6u+8f1539dt3A78eXC7QizUF7gyV1fD1Yqg4JWz84yffhm0qkFqBogB9rM8tZdtwVsPUhWhGcFJngGeWrPzHm5oaMmkfEg1usvLFyc8jLRqDOMru7AyC8saQr7GG7f5fvDeH7Ej8CM66nIF+8yngt6HWaKh7k49Soy9nXurCi1o3qUbS3zWfrYeQDTB/Qj6kX6Ybhw4B+bOYoLKCC9H3Nu/leUTZ1JdRWkkn2ldcCamzrcf47KKXdAJllSlxAOkRgyHsGC/zRday5Qld9DyoM4/q/rUoy/CXh3jzOu3bHUVZeU+DEn8FInkPBFlu3+nW3Nw0mk6vCDiWg8CeJaxEwuHS3+z5RgY+YBR6V1Z1nxSOfoaPa4LASWxxdNp+VWTk7+4vzaou8v8PN+xo+KY2xsw6une2frhw05CTYOmQvsEhjhWjn0bmXPjpE1+kplmmkP3suftwTubK9Vq22qKmrBhpY4jvd5afdRA3wGjFAgcnTK2s4hY0/GPNIb0nErGMCRxWOOX64Z8RAC4oCXdklmEvcL8o0BfkNK4lUg9HTl+oPlQxdNo3Mg4Nv175e/1LDGzZen30MEjRUtmXSfiTVu1kK8W4txyV6BMKlbgk3lMwYCiusNy9fVfvvwMxv8Ynl6vxoByANLTWplvuj/nF9m2+PDtt1eiHPBr1oIfhCChQMBw6Aw0UulqTKZdfVvfG7VcfIqLG9bcldL/+pdWTLxLUy8Qq38heUIjh4XlzZxzQm19lLFlr8vdQ97rjZVOLf8nclzckbcD4wxXMidpX30sFd37Fv/GtwwhzhxGVAprjbg0gCAEeIgwCZyTV2Z1REEW8O4py0wsjeloKoMr6iCY6dP92H6Vw/oTyICIthibxjm/DfN9lVz8IqtqKYLUXfoKVMVQVVJOElGjrnnUt9T9wbgp8AyYKaGlqingHZU/uG2NTZSVqwHQTWkx9hxjkpWDaCg6Ckj5qebgBVbT3V3NNXMSiWSDdGV3hrtzla7J+duwPOToIg42ChPQOQjspnSlp1V+Gjdged7+8UN5CRAV7a5EdFNwCjEaBR27b3W890TE7g24NAP/mMDXRWrGoFPQI9ls/MWO2dWFAar/xcOIImbbpA3zgAAAABJRU5ErkJggg==);\n",
       "        }\n",
       "    </style>\n",
       "    <div>\n",
       "        <a href=\"https://bokeh.org\" target=\"_blank\" class=\"bk-notebook-logo\"></a>\n",
       "        <span id=\"cb1cadd3-d259-4045-84dd-4a7e9f405b91\">Loading BokehJS ...</span>\n",
       "    </div>\n"
      ]
     },
     "metadata": {},
     "output_type": "display_data"
    },
    {
     "data": {
      "application/javascript": "(function(root) {\n  function now() {\n    return new Date();\n  }\n\n  const force = true;\n\n  if (typeof root._bokeh_onload_callbacks === \"undefined\" || force === true) {\n    root._bokeh_onload_callbacks = [];\n    root._bokeh_is_loading = undefined;\n  }\n\nconst JS_MIME_TYPE = 'application/javascript';\n  const HTML_MIME_TYPE = 'text/html';\n  const EXEC_MIME_TYPE = 'application/vnd.bokehjs_exec.v0+json';\n  const CLASS_NAME = 'output_bokeh rendered_html';\n\n  /**\n   * Render data to the DOM node\n   */\n  function render(props, node) {\n    const script = document.createElement(\"script\");\n    node.appendChild(script);\n  }\n\n  /**\n   * Handle when an output is cleared or removed\n   */\n  function handleClearOutput(event, handle) {\n    const cell = handle.cell;\n\n    const id = cell.output_area._bokeh_element_id;\n    const server_id = cell.output_area._bokeh_server_id;\n    // Clean up Bokeh references\n    if (id != null && id in Bokeh.index) {\n      Bokeh.index[id].model.document.clear();\n      delete Bokeh.index[id];\n    }\n\n    if (server_id !== undefined) {\n      // Clean up Bokeh references\n      const cmd_clean = \"from bokeh.io.state import curstate; print(curstate().uuid_to_server['\" + server_id + \"'].get_sessions()[0].document.roots[0]._id)\";\n      cell.notebook.kernel.execute(cmd_clean, {\n        iopub: {\n          output: function(msg) {\n            const id = msg.content.text.trim();\n            if (id in Bokeh.index) {\n              Bokeh.index[id].model.document.clear();\n              delete Bokeh.index[id];\n            }\n          }\n        }\n      });\n      // Destroy server and session\n      const cmd_destroy = \"import bokeh.io.notebook as ion; ion.destroy_server('\" + server_id + \"')\";\n      cell.notebook.kernel.execute(cmd_destroy);\n    }\n  }\n\n  /**\n   * Handle when a new output is added\n   */\n  function handleAddOutput(event, handle) {\n    const output_area = handle.output_area;\n    const output = handle.output;\n\n    // limit handleAddOutput to display_data with EXEC_MIME_TYPE content only\n    if ((output.output_type != \"display_data\") || (!Object.prototype.hasOwnProperty.call(output.data, EXEC_MIME_TYPE))) {\n      return\n    }\n\n    const toinsert = output_area.element.find(\".\" + CLASS_NAME.split(' ')[0]);\n\n    if (output.metadata[EXEC_MIME_TYPE][\"id\"] !== undefined) {\n      toinsert[toinsert.length - 1].firstChild.textContent = output.data[JS_MIME_TYPE];\n      // store reference to embed id on output_area\n      output_area._bokeh_element_id = output.metadata[EXEC_MIME_TYPE][\"id\"];\n    }\n    if (output.metadata[EXEC_MIME_TYPE][\"server_id\"] !== undefined) {\n      const bk_div = document.createElement(\"div\");\n      bk_div.innerHTML = output.data[HTML_MIME_TYPE];\n      const script_attrs = bk_div.children[0].attributes;\n      for (let i = 0; i < script_attrs.length; i++) {\n        toinsert[toinsert.length - 1].firstChild.setAttribute(script_attrs[i].name, script_attrs[i].value);\n        toinsert[toinsert.length - 1].firstChild.textContent = bk_div.children[0].textContent\n      }\n      // store reference to server id on output_area\n      output_area._bokeh_server_id = output.metadata[EXEC_MIME_TYPE][\"server_id\"];\n    }\n  }\n\n  function register_renderer(events, OutputArea) {\n\n    function append_mime(data, metadata, element) {\n      // create a DOM node to render to\n      const toinsert = this.create_output_subarea(\n        metadata,\n        CLASS_NAME,\n        EXEC_MIME_TYPE\n      );\n      this.keyboard_manager.register_events(toinsert);\n      // Render to node\n      const props = {data: data, metadata: metadata[EXEC_MIME_TYPE]};\n      render(props, toinsert[toinsert.length - 1]);\n      element.append(toinsert);\n      return toinsert\n    }\n\n    /* Handle when an output is cleared or removed */\n    events.on('clear_output.CodeCell', handleClearOutput);\n    events.on('delete.Cell', handleClearOutput);\n\n    /* Handle when a new output is added */\n    events.on('output_added.OutputArea', handleAddOutput);\n\n    /**\n     * Register the mime type and append_mime function with output_area\n     */\n    OutputArea.prototype.register_mime_type(EXEC_MIME_TYPE, append_mime, {\n      /* Is output safe? */\n      safe: true,\n      /* Index of renderer in `output_area.display_order` */\n      index: 0\n    });\n  }\n\n  // register the mime type if in Jupyter Notebook environment and previously unregistered\n  if (root.Jupyter !== undefined) {\n    const events = require('base/js/events');\n    const OutputArea = require('notebook/js/outputarea').OutputArea;\n\n    if (OutputArea.prototype.mime_types().indexOf(EXEC_MIME_TYPE) == -1) {\n      register_renderer(events, OutputArea);\n    }\n  }\n  if (typeof (root._bokeh_timeout) === \"undefined\" || force === true) {\n    root._bokeh_timeout = Date.now() + 5000;\n    root._bokeh_failed_load = false;\n  }\n\n  const NB_LOAD_WARNING = {'data': {'text/html':\n     \"<div style='background-color: #fdd'>\\n\"+\n     \"<p>\\n\"+\n     \"BokehJS does not appear to have successfully loaded. If loading BokehJS from CDN, this \\n\"+\n     \"may be due to a slow or bad network connection. Possible fixes:\\n\"+\n     \"</p>\\n\"+\n     \"<ul>\\n\"+\n     \"<li>re-rerun `output_notebook()` to attempt to load from CDN again, or</li>\\n\"+\n     \"<li>use INLINE resources instead, as so:</li>\\n\"+\n     \"</ul>\\n\"+\n     \"<code>\\n\"+\n     \"from bokeh.resources import INLINE\\n\"+\n     \"output_notebook(resources=INLINE)\\n\"+\n     \"</code>\\n\"+\n     \"</div>\"}};\n\n  function display_loaded() {\n    const el = document.getElementById(\"cb1cadd3-d259-4045-84dd-4a7e9f405b91\");\n    if (el != null) {\n      el.textContent = \"BokehJS is loading...\";\n    }\n    if (root.Bokeh !== undefined) {\n      if (el != null) {\n        el.textContent = \"BokehJS \" + root.Bokeh.version + \" successfully loaded.\";\n      }\n    } else if (Date.now() < root._bokeh_timeout) {\n      setTimeout(display_loaded, 100)\n    }\n  }\n\n  function run_callbacks() {\n    try {\n      root._bokeh_onload_callbacks.forEach(function(callback) {\n        if (callback != null)\n          callback();\n      });\n    } finally {\n      delete root._bokeh_onload_callbacks\n    }\n    console.debug(\"Bokeh: all callbacks have finished\");\n  }\n\n  function load_libs(css_urls, js_urls, callback) {\n    if (css_urls == null) css_urls = [];\n    if (js_urls == null) js_urls = [];\n\n    root._bokeh_onload_callbacks.push(callback);\n    if (root._bokeh_is_loading > 0) {\n      console.debug(\"Bokeh: BokehJS is being loaded, scheduling callback at\", now());\n      return null;\n    }\n    if (js_urls == null || js_urls.length === 0) {\n      run_callbacks();\n      return null;\n    }\n    console.debug(\"Bokeh: BokehJS not loaded, scheduling load and callback at\", now());\n    root._bokeh_is_loading = css_urls.length + js_urls.length;\n\n    function on_load() {\n      root._bokeh_is_loading--;\n      if (root._bokeh_is_loading === 0) {\n        console.debug(\"Bokeh: all BokehJS libraries/stylesheets loaded\");\n        run_callbacks()\n      }\n    }\n\n    function on_error(url) {\n      console.error(\"failed to load \" + url);\n    }\n\n    for (let i = 0; i < css_urls.length; i++) {\n      const url = css_urls[i];\n      const element = document.createElement(\"link\");\n      element.onload = on_load;\n      element.onerror = on_error.bind(null, url);\n      element.rel = \"stylesheet\";\n      element.type = \"text/css\";\n      element.href = url;\n      console.debug(\"Bokeh: injecting link tag for BokehJS stylesheet: \", url);\n      document.body.appendChild(element);\n    }\n\n    for (let i = 0; i < js_urls.length; i++) {\n      const url = js_urls[i];\n      const element = document.createElement('script');\n      element.onload = on_load;\n      element.onerror = on_error.bind(null, url);\n      element.async = false;\n      element.src = url;\n      console.debug(\"Bokeh: injecting script tag for BokehJS library: \", url);\n      document.head.appendChild(element);\n    }\n  };\n\n  function inject_raw_css(css) {\n    const element = document.createElement(\"style\");\n    element.appendChild(document.createTextNode(css));\n    document.body.appendChild(element);\n  }\n\n  const js_urls = [\"https://cdn.bokeh.org/bokeh/release/bokeh-3.2.0.min.js\", \"https://cdn.bokeh.org/bokeh/release/bokeh-gl-3.2.0.min.js\", \"https://cdn.bokeh.org/bokeh/release/bokeh-widgets-3.2.0.min.js\", \"https://cdn.bokeh.org/bokeh/release/bokeh-tables-3.2.0.min.js\", \"https://cdn.bokeh.org/bokeh/release/bokeh-mathjax-3.2.0.min.js\"];\n  const css_urls = [];\n\n  const inline_js = [    function(Bokeh) {\n      Bokeh.set_log_level(\"info\");\n    },\nfunction(Bokeh) {\n    }\n  ];\n\n  function run_inline_js() {\n    if (root.Bokeh !== undefined || force === true) {\n          for (let i = 0; i < inline_js.length; i++) {\n      inline_js[i].call(root, root.Bokeh);\n    }\nif (force === true) {\n        display_loaded();\n      }} else if (Date.now() < root._bokeh_timeout) {\n      setTimeout(run_inline_js, 100);\n    } else if (!root._bokeh_failed_load) {\n      console.log(\"Bokeh: BokehJS failed to load within specified timeout.\");\n      root._bokeh_failed_load = true;\n    } else if (force !== true) {\n      const cell = $(document.getElementById(\"cb1cadd3-d259-4045-84dd-4a7e9f405b91\")).parents('.cell').data().cell;\n      cell.output_area.append_execute_result(NB_LOAD_WARNING)\n    }\n  }\n\n  if (root._bokeh_is_loading === 0) {\n    console.debug(\"Bokeh: BokehJS loaded, going straight to plotting\");\n    run_inline_js();\n  } else {\n    load_libs(css_urls, js_urls, function() {\n      console.debug(\"Bokeh: BokehJS plotting callback run at\", now());\n      run_inline_js();\n    });\n  }\n}(window));",
      "application/vnd.bokehjs_load.v0+json": ""
     },
     "metadata": {},
     "output_type": "display_data"
    }
   ],
   "source": [
    "from bokeh.plotting import show, output_notebook\n",
    "from plot_1_grafico_grid_Brasil import combinados\n",
    "from plot_2_grafico_heatmap import heatmap\n",
    "from plot_3_grafico_nested_continente import grafico_juntos\n",
    "from plot_4_disease_deaths import disease_fig\n",
    "from plot_5_non_diseases import non_disease_fig\n",
    "from plot_6_historico_afogamento import drowning_fig\n",
    "from plot_7_grid_plot import grid_hiv_africa\n",
    "from plot_8_plot_bar_homicides import plot_homicides_continents\n",
    "from plot_9_plot_boxplot import boxplot_cardiovascular_deaths\n",
    "from plot_10_plot_elderly_diseases import plot_elderly_diseases\n",
    "\n",
    "output_notebook()"
   ]
  },
  {
   "attachments": {},
   "cell_type": "markdown",
   "metadata": {},
   "source": [
    "# A_2 ICD\n",
    "\n",
    "Integrantes do grupo: Daniel de Miranda Almeida, Guilherme Carvalho Cunha, Kauan Mariani Ferreira\n",
    "\n",
    "Ao longo de todas as aulas da matéria Introdução a Ciência de Dados, foi nos mostrada diversas formas de trabalhar com gráficos, utillizando a ferramenta BOKEH. Essa ferramenta permite trabalhar com gráficos de modo interativo, e acaba sendo uma das melhores opções para trabalhar com gráficos em python.\n",
    "\n",
    "De modo a sintetizar os conhecimentos apresentados em sala de aula, foi nos proposto um trabalho no qual cada grupo selecionou uma base de dados e cada grupo deverá apresentar ao menos 3 gráficos.\n",
    "\n",
    "# Escolha da base de dados\n",
    "\n",
    "A base de dados escolhida foi uma que representava uma sequência histórica sobre as causas de morte ao redor do mundo, disponível no link \n",
    "\"Cause of Deaths around the World (Historical Data): https://www.kaggle.com/datasets/e08190eb1e73a5202444cae6c11c589870142f4f630fb4182601a56c8bc09c67/code \"\n",
    "\n",
    "Essa base de dados nos traz uma série de dados com a quantidade de mortes em cada ano de uma série de doeças e fatalidades, separada por país. Os dados vão de 1990 até 2019.\n",
    "\n",
    "De modo a analisar melhor a base, vamos dividir a análise em duas, nas quais na primeira parte fizemos alguns gráficos sobre o mundo mundo e estudando algumas variáveis sobre o continente e após isso focamos em fazer alguns gráficos sobre o Brasil, já que é o país onde moramos e queremos saber um pouco mais sobre ele."
   ]
  },
  {
   "attachments": {},
   "cell_type": "markdown",
   "metadata": {},
   "source": [
    "# Gráficos sobre o Mundo"
   ]
  },
  {
   "attachments": {},
   "cell_type": "markdown",
   "metadata": {},
   "source": [
    "Visando a introdução do nosso conjunto de visualizações, achei válida a inserção de dois gráficos que se completam, sendo esses a quantidade de mortes em decorrência de doenças com o passar dos anos e a quantidade que não se relaciona com doenças. \n",
    "Foi considerada a possibilidade de fundir os dois gráficos em apenas um, porém, como os valores do eixo y se diferem bastante, a visibilidade seria comprometida.\n",
    "Partindo para o desenvolvimento do plot, como se tratam de gráficos linha do tempo,  a escolha do line plot para a representação é recomendada. Foram adicionados também dois simples círculos em cada um para destacar o maior e o menor valor, com cores comuns para tal. Por fim, customizações básicas foram feitas, como a alteração da fonte e das cores dos textos, a remoção do grid, etc."
   ]
  },
  {
   "cell_type": "code",
   "execution_count": null,
   "metadata": {},
   "outputs": [],
   "source": [
    "show(disease_fig)"
   ]
  },
  {
   "cell_type": "code",
   "execution_count": null,
   "metadata": {},
   "outputs": [],
   "source": [
    "show(non_disease_fig)"
   ]
  },
  {
   "attachments": {},
   "cell_type": "markdown",
   "metadata": {},
   "source": [
    "Foram consideradas doenças: \"Meningitis\",\"Alzheimer's Disease and Other Dementias\", \"Parkinson's Disease\", \"Cardiovascular Diseases\",\"Lower Respiratory Infections\", \"Acute Hepatitis\", \"Digestive Diseases\", \"Cirrhosis and Other Chronic Liver Diseases\", \"Chronic Respiratory Diseases\", \"Diabetes Mellitus\",\"Chronic Kidney Disease\", \"Nutritional Deficiencies\", \"Malaria\", \"Maternal Disorders\", \"HIV/AIDS\",\"Drug Use Disorders\",\"Tuberculosis\",\"Neonatal Disorders\",\"Alcohol Use Disorders\",\"Diarrheal Diseases\".\n",
    "\n",
    "Não foram consideradas doenças: \"Drowning\", \"Interpersonal Violence\", \"Fire, Heat, and Hot Substances\", \"Road Injuries\", \"Poisonings\" , \"Protein-Energy Malnutrition\", \"Conflict and Terrorism\", \"Self-harm\", \"Exposure to Forces of Nature\", \"Environmental Heat and Cold Exposure\".\n",
    "\n",
    "É possível observar um aumento no número de mortes decorrentes de doenças, porém, considerando também o aumento populacional do globo, esse incremento não é muito expressivo (aprox. 50% mais pessoas no mundo | aprox. 20% mais mortes). Por outro lado, o número de mortes não relacionadas a doenças diminuiu,  retrato de um mundo em que o ser humano tem cada vez menos a necessidade de se expôr em condições adversas, além de um cuidado maior para evitar essa exposição."
   ]
  },
  {
   "attachments": {},
   "cell_type": "markdown",
   "metadata": {},
   "source": [
    "### Gráfico sobre as três maiores causas de mortes nos continentes de 1990 até 2019\n",
    "\n",
    "Ao longo da análise na base de dados nos surgiu uma dúvida sobre quais as doenças mais matavam nos continentes.\n",
    "Para responder isso, nada mais justo do que plotar um grafico aninhado com as três maiores causas de mortes em cada continente ao longo de todos os anos.\n",
    "Quando fazemos isso, vemos que o maior motivo de mortes em TODOS os continentes se dá através de Doenças Cardiovasculares, seguido na maioria dos continentes de Neoplasms que se traduziria como câncer. A exceção para isso se dá na África, na qual a segunda maior causa de morte foi HIV/AIDS.\n",
    "O terceiro lugar, acaba sendo bem diverso, mas se resume na maioria dos casos em Doenças relacianadas ao sistema respiratório. As exceções dessa vez se deram na África e na Europa que tiveram como terceiro lugar doenças realcionadas ao sistema digestivo."
   ]
  },
  {
   "cell_type": "code",
   "execution_count": 2,
   "metadata": {},
   "outputs": [
    {
     "data": {
      "text/html": [
       "\n",
       "  <div id=\"b55cb2bf-c2ee-471c-b852-b9dd47c35da4\" data-root-id=\"p1256\" style=\"display: contents;\"></div>\n"
      ]
     },
     "metadata": {},
     "output_type": "display_data"
    },
    {
     "data": {
      "application/javascript": "(function(root) {\n  function embed_document(root) {\n  const docs_json = {\"5cb1023a-8ec3-4cbd-a35a-413e92069c57\":{\"version\":\"3.2.0\",\"title\":\"Bokeh Application\",\"roots\":[{\"type\":\"object\",\"name\":\"Figure\",\"id\":\"p1256\",\"attributes\":{\"width\":1280,\"height\":720,\"x_range\":{\"type\":\"object\",\"name\":\"FactorRange\",\"id\":\"p1255\",\"attributes\":{\"factors\":[\"Africa\",\"Asia\",\"Europe\",\"North America\",\"Oceania\",\"South America\"]}},\"y_range\":{\"type\":\"object\",\"name\":\"DataRange1d\",\"id\":\"p1258\"},\"x_scale\":{\"type\":\"object\",\"name\":\"CategoricalScale\",\"id\":\"p1265\"},\"y_scale\":{\"type\":\"object\",\"name\":\"LinearScale\",\"id\":\"p1266\"},\"title\":{\"type\":\"object\",\"name\":\"Title\",\"id\":\"p1263\",\"attributes\":{\"text\":\"As tr\\u00eas maiores causas de morte por continente de 1990 at\\u00e9 2019\",\"text_color\":\"Black\",\"text_font\":\"Arial\",\"text_font_size\":\"22px\",\"align\":\"center\"}},\"outline_line_color\":\"black\",\"renderers\":[{\"type\":\"object\",\"name\":\"GlyphRenderer\",\"id\":\"p1290\",\"attributes\":{\"data_source\":{\"type\":\"object\",\"name\":\"ColumnDataSource\",\"id\":\"p1001\",\"attributes\":{\"selected\":{\"type\":\"object\",\"name\":\"Selection\",\"id\":\"p1002\",\"attributes\":{\"indices\":[],\"line_indices\":[]}},\"selection_policy\":{\"type\":\"object\",\"name\":\"UnionRenderers\",\"id\":\"p1003\"},\"data\":{\"type\":\"map\",\"entries\":[[\"agrupado\",[[\"Asia\",\"Cardiovascular Diseases\"],[\"Asia\",\"Neoplasms\"],[\"Europe\",\"Cardiovascular Diseases\"],[\"Asia\",\"Chronic Respiratory Diseases\"],[\"Europe\",\"Neoplasms\"],[\"Africa\",\"Cardiovascular Diseases\"],[\"North America\",\"Cardiovascular Diseases\"],[\"Africa\",\"HIV/AIDS\"],[\"Africa\",\"Diarrheal Diseases\"],[\"North America\",\"Neoplasms\"],[\"South America\",\"Cardiovascular Diseases\"],[\"South America\",\"Neoplasms\"],[\"Europe\",\"Digestive Diseases\"],[\"North America\",\"Chronic Respiratory Diseases\"],[\"South America\",\"Lower Respiratory Infections\"],[\"Oceania\",\"Cardiovascular Diseases\"],[\"Oceania\",\"Neoplasms\"],[\"Oceania\",\"Chronic Respiratory Diseases\"]]],[\"numero_de_casos\",{\"type\":\"ndarray\",\"array\":{\"type\":\"bytes\",\"data\":\"pDYvEIHOvAd8mPgEJmzHBK5a1AKBDzACdrwiAgojvAGcJpABOw6DAYHsEgFqoLQAycqFAItvZQAfTj8AhngiAGL3GADzkgcA\"},\"shape\":[18],\"dtype\":\"int32\",\"order\":\"little\"}],[\"Continente\",[\"Asia\",\"Asia\",\"Europe\",\"Asia\",\"Europe\",\"Africa\",\"North America\",\"Africa\",\"Africa\",\"North America\",\"South America\",\"South America\",\"Europe\",\"North America\",\"South America\",\"Oceania\",\"Oceania\",\"Oceania\"]],[\"Doenca\",[\"Cardiovascular Diseases\",\"Neoplasms\",\"Cardiovascular Diseases\",\"Chronic Respiratory Diseases\",\"Neoplasms\",\"Cardiovascular Diseases\",\"Cardiovascular Diseases\",\"HIV/AIDS\",\"Diarrheal Diseases\",\"Neoplasms\",\"Cardiovascular Diseases\",\"Neoplasms\",\"Digestive Diseases\",\"Chronic Respiratory Diseases\",\"Lower Respiratory Infections\",\"Cardiovascular Diseases\",\"Neoplasms\",\"Chronic Respiratory Diseases\"]],[\"Cor\",[\"#440154\",\"#443982\",\"#440154\",\"#30678D\",\"#443982\",\"#440154\",\"#440154\",\"#208F8C\",\"#35B778\",\"#443982\",\"#440154\",\"#443982\",\"#8DD644\",\"#30678D\",\"#FDE724\",\"#440154\",\"#443982\",\"#30678D\"]]]}}},\"view\":{\"type\":\"object\",\"name\":\"CDSView\",\"id\":\"p1291\",\"attributes\":{\"filter\":{\"type\":\"object\",\"name\":\"AllIndices\",\"id\":\"p1292\"}}},\"glyph\":{\"type\":\"object\",\"name\":\"VBar\",\"id\":\"p1287\",\"attributes\":{\"x\":{\"type\":\"field\",\"field\":\"agrupado\"},\"width\":{\"type\":\"value\",\"value\":0.8},\"top\":{\"type\":\"field\",\"field\":\"numero_de_casos\"},\"line_color\":{\"type\":\"field\",\"field\":\"Cor\"},\"fill_color\":{\"type\":\"field\",\"field\":\"Cor\"},\"hatch_color\":{\"type\":\"field\",\"field\":\"Cor\"}}},\"nonselection_glyph\":{\"type\":\"object\",\"name\":\"VBar\",\"id\":\"p1288\",\"attributes\":{\"x\":{\"type\":\"field\",\"field\":\"agrupado\"},\"width\":{\"type\":\"value\",\"value\":0.8},\"top\":{\"type\":\"field\",\"field\":\"numero_de_casos\"},\"line_color\":{\"type\":\"field\",\"field\":\"Cor\"},\"line_alpha\":{\"type\":\"value\",\"value\":0.1},\"fill_color\":{\"type\":\"field\",\"field\":\"Cor\"},\"fill_alpha\":{\"type\":\"value\",\"value\":0.1},\"hatch_color\":{\"type\":\"field\",\"field\":\"Cor\"},\"hatch_alpha\":{\"type\":\"value\",\"value\":0.1}}},\"muted_glyph\":{\"type\":\"object\",\"name\":\"VBar\",\"id\":\"p1289\",\"attributes\":{\"x\":{\"type\":\"field\",\"field\":\"agrupado\"},\"width\":{\"type\":\"value\",\"value\":0.8},\"top\":{\"type\":\"field\",\"field\":\"numero_de_casos\"},\"line_color\":{\"type\":\"field\",\"field\":\"Cor\"},\"line_alpha\":{\"type\":\"value\",\"value\":0.2},\"fill_color\":{\"type\":\"field\",\"field\":\"Cor\"},\"fill_alpha\":{\"type\":\"value\",\"value\":0.2},\"hatch_color\":{\"type\":\"field\",\"field\":\"Cor\"},\"hatch_alpha\":{\"type\":\"value\",\"value\":0.2}}}}}],\"toolbar\":{\"type\":\"object\",\"name\":\"Toolbar\",\"id\":\"p1264\",\"attributes\":{\"logo\":null,\"autohide\":true,\"tools\":[{\"type\":\"object\",\"name\":\"PanTool\",\"id\":\"p1277\"},{\"type\":\"object\",\"name\":\"WheelZoomTool\",\"id\":\"p1278\"},{\"type\":\"object\",\"name\":\"BoxZoomTool\",\"id\":\"p1279\",\"attributes\":{\"overlay\":{\"type\":\"object\",\"name\":\"BoxAnnotation\",\"id\":\"p1280\",\"attributes\":{\"syncable\":false,\"level\":\"overlay\",\"visible\":false,\"left_units\":\"canvas\",\"right_units\":\"canvas\",\"bottom_units\":\"canvas\",\"top_units\":\"canvas\",\"line_color\":\"black\",\"line_alpha\":1.0,\"line_width\":2,\"line_dash\":[4,4],\"fill_color\":\"lightgrey\",\"fill_alpha\":0.5}}}},{\"type\":\"object\",\"name\":\"SaveTool\",\"id\":\"p1281\"},{\"type\":\"object\",\"name\":\"ResetTool\",\"id\":\"p1282\"},{\"type\":\"object\",\"name\":\"HelpTool\",\"id\":\"p1283\"},{\"type\":\"object\",\"name\":\"HoverTool\",\"id\":\"p1296\",\"attributes\":{\"renderers\":\"auto\",\"tooltips\":[[\"Continent\",\"@Continente\"],[\"Doen\\u00e7a\",\"@Doenca\"],[\"N\\u00famero de casos\",\"@numero_de_casos\"]]}}]}},\"left\":[{\"type\":\"object\",\"name\":\"LinearAxis\",\"id\":\"p1272\",\"attributes\":{\"ticker\":{\"type\":\"object\",\"name\":\"BasicTicker\",\"id\":\"p1273\",\"attributes\":{\"mantissas\":[1,2,5]}},\"formatter\":{\"type\":\"object\",\"name\":\"NumeralTickFormatter\",\"id\":\"p1295\",\"attributes\":{\"format\":\"0.0a\"}},\"axis_label\":\"Quantidade de mortes\",\"major_label_policy\":{\"type\":\"object\",\"name\":\"AllLabels\",\"id\":\"p1275\"},\"minor_tick_line_color\":null}}],\"below\":[{\"type\":\"object\",\"name\":\"CategoricalAxis\",\"id\":\"p1267\",\"attributes\":{\"ticker\":{\"type\":\"object\",\"name\":\"CategoricalTicker\",\"id\":\"p1268\"},\"formatter\":{\"type\":\"object\",\"name\":\"CategoricalTickFormatter\",\"id\":\"p1269\"},\"axis_label\":\"Continentes\",\"major_label_orientation\":0.7853981633974483,\"major_label_policy\":{\"type\":\"object\",\"name\":\"AllLabels\",\"id\":\"p1270\"},\"major_label_text_font_size\":\"9pt\"}}],\"center\":[{\"type\":\"object\",\"name\":\"Grid\",\"id\":\"p1271\",\"attributes\":{\"axis\":{\"id\":\"p1267\"},\"grid_line_color\":null}},{\"type\":\"object\",\"name\":\"Grid\",\"id\":\"p1276\",\"attributes\":{\"dimension\":1,\"axis\":{\"id\":\"p1272\"},\"grid_line_color\":null}},{\"type\":\"object\",\"name\":\"Legend\",\"id\":\"p1293\",\"attributes\":{\"label_text_font\":\"Arial\",\"items\":[{\"type\":\"object\",\"name\":\"LegendItem\",\"id\":\"p1294\",\"attributes\":{\"label\":{\"type\":\"field\",\"field\":\"Doenca\"},\"renderers\":[{\"id\":\"p1290\"}]}}]}}],\"background_fill_color\":\"blue\",\"background_fill_alpha\":0.1}}]}};\n  const render_items = [{\"docid\":\"5cb1023a-8ec3-4cbd-a35a-413e92069c57\",\"roots\":{\"p1256\":\"b55cb2bf-c2ee-471c-b852-b9dd47c35da4\"},\"root_ids\":[\"p1256\"]}];\n  root.Bokeh.embed.embed_items_notebook(docs_json, render_items);\n  }\n  if (root.Bokeh !== undefined) {\n    embed_document(root);\n  } else {\n    let attempts = 0;\n    const timer = setInterval(function(root) {\n      if (root.Bokeh !== undefined) {\n        clearInterval(timer);\n        embed_document(root);\n      } else {\n        attempts++;\n        if (attempts > 100) {\n          clearInterval(timer);\n          console.log(\"Bokeh: ERROR: Unable to run BokehJS code because BokehJS library is missing\");\n        }\n      }\n    }, 10, root)\n  }\n})(window);",
      "application/vnd.bokehjs_exec.v0+json": ""
     },
     "metadata": {
      "application/vnd.bokehjs_exec.v0+json": {
       "id": "p1256"
      }
     },
     "output_type": "display_data"
    }
   ],
   "source": [
    "show(grafico_juntos)"
   ]
  },
  {
   "attachments": {},
   "cell_type": "markdown",
   "metadata": {},
   "source": [
    "### Analisando o HIV na África\n",
    "\n",
    "Após perceber que o HIV é uma das principais causas de morte na África, decidimos analisa-lo\n",
    "\n",
    "Dado o contexto africano em relação aos casos de HIV, achei pertinente fazer uma análise mais completa desse fenômeno. Sendo assim, um gráfico de grid seria o mais adequado para essa ocasião. \n",
    "Foi decidido então, que no grid estariam presentes as seguintes análises:\n",
    "\n",
    "- Comparação de mortes por HIV entre os continentes (soma de 1990 até 2019);\n",
    "- Comparação de mortes por HIV entre a África e a soma de todos os outros continentes (soma de 1990 até 2019);\n",
    "- Linha do tempo de mortes por HIV na África;\n",
    "- Top 10 países africanos com mais mortes por HIV a cada 100 mil habitantes soma de 1990 até 2019) \n",
    "\n",
    "Desse modo, conseguiríamos observar o quão grave é esse fenômeno, se ele está se agravando ou não, e as regiões mais afetadas.\n",
    "Para as comparações e o ranking achei pertinente o uso de gráficos de barras, visto que se tratam de visualizações que buscam justamente uma comparação de valores absolutos. No caso da linha do tempo, novamente foi escolhido o line plot, tipo ideal para esse contexto.\n",
    "As customizações novamente seguiram um padrão, com a adição do HoverTools, a mudança da cor de fundo, a remoção dos grid_lines, etc. A cor vermelha, nesse caso, foi escolhida para dar um certo impacto ao observador, já que se trata de um assunto sério que é enfrentado até os dias de hoje.\n",
    "O grid, por fim, é apresentado no formato 2x2 para facilitar a visualização."
   ]
  },
  {
   "cell_type": "code",
   "execution_count": null,
   "metadata": {},
   "outputs": [],
   "source": [
    "show(grid_hiv_africa)"
   ]
  },
  {
   "attachments": {},
   "cell_type": "markdown",
   "metadata": {},
   "source": [
    "De começo, é notável a desproporcionalidade no número de casos na África em relação aos outros continentes, de modo em que a soma das suas mortes não representa nem 25% do total africano. Também pode-se observar que houve um crescimento constante até o ápice de mortes, que ocorreu em 2004, a partir do ano seguinte até 2019 o número apenas reduziu (continuando acima do ponto inicial). Os países mais afetados, por fim, foram/são Lesotho, Zimbabwe, Eswatini e Botswana (Esses e outros no top 10 estão no sul do continente)."
   ]
  },
  {
   "attachments": {},
   "cell_type": "markdown",
   "metadata": {},
   "source": [
    "### Gráficos homicídios por continente\n",
    "O objetivo do gráfico era mostrar as mortes causadas por homicídios (como homicídios estou classificando as mortes causadas por conflitos ou terrorismo e por violência interpessoal da base de dados) por continente primeiro em números absolutos e depois em números em relação à população total do continente. Os dois gráficos de cima mostram, respectivamente, os casos de violência interpessoal e de mortes por conflitos ou terrorismo. Os dois gráficos de baixo mostram o mesmo, mas com os números em relação à população do continente em questão. Nesses dois últimos os números de mortos foram omitidos, uma vez que o importante era mostrar só a diferença das barras quando analisamos os mortos pela população total. A escolha de barras em vermelho forte contra um fundo escuro tem o objetivo de remeter a sangue escorrendo; isso, junto da anotação em laranja traz um tom mais dramático para o gráfico. Além disso, foi utilizado um formatador nos valores do eixo y e foram rotacionados os valores do eixo x para melhorar a legibilidade dos gráficos."
   ]
  },
  {
   "cell_type": "code",
   "execution_count": null,
   "metadata": {},
   "outputs": [],
   "source": [
    "show(plot_homicides_continents)"
   ]
  },
  {
   "attachments": {},
   "cell_type": "markdown",
   "metadata": {},
   "source": [
    "### Doenças que afetam majoritariamente a população idosa ao longo do tempo no mundo inteiro\n",
    "\n",
    "O objetivo do gráfico era analisar a evolução conjunta das mortes provocadas por causas que afetam majoritariamente a população idosa no mundo. As causas escolhidas na base foram: doença de Alzheimer e outras demências, doença de Parkinson, infecções do trato respiratório inferior, Diabetes Mellitus, doenças respiratórias crônicas e neoplasmas (câncer). O gráfico é feito com áreas empilhadas, o que diminui a precisão na leitura dos dados, mas permite uma ideia geral de como é a evolução do número de mortes causado para cada doença. É possível ver, por exemplo que há um aumento no número de total de mortes com o passar dos anos. A escolha de cores não teve nenhum objetivo específico em mente. Os números no eixo y foram formatados e a legenda de cores foi movida para o canto superior direito do gráfico, com o fim de melhorar a legibilidade.\n"
   ]
  },
  {
   "cell_type": "code",
   "execution_count": null,
   "metadata": {},
   "outputs": [],
   "source": [
    "show(plot_elderly_diseases)"
   ]
  },
  {
   "attachments": {},
   "cell_type": "markdown",
   "metadata": {},
   "source": [
    "### Distribuição de mortes por acidentes cardiovasculares por 100 mil habitantes por continente\n",
    "\n",
    "O objetivo do gráfico era de analisar a distribuição de mortes por doenças cardiovasculares no mundo no ano de 2019. Os números usados foram as mortes por 100 mil habitantes para cada país. A escolha de cores não teve nenhum objetivo específico em mente. Os nomes dos continentes foram rotacionados e os valores no eixo y foram formatados para melhoria da legibilidade do gráfico."
   ]
  },
  {
   "cell_type": "code",
   "execution_count": null,
   "metadata": {},
   "outputs": [],
   "source": [
    "show(boxplot_cardiovascular_deaths)"
   ]
  },
  {
   "attachments": {},
   "cell_type": "markdown",
   "metadata": {},
   "source": [
    "### Plot Afogamento\n",
    "\n",
    "Ainda no período de análise da base, resolvi testar variáveis e tipos de plots, a fim de obter ideias a serem utilizadas no trabalho. Nesse contexto fiz a análise do total de mortes por afogamento por ano em um gráfico de área, e no mesmo momento percebi que o gráfico se assemelhava com uma correnteza. Sendo assim, concluí que, com aprimoramentos, ele poderia ser incluído no trabalho final.\n",
    "A ideia era simples, e a execução seguiu esse padrão. As customizações seguiram o formato utilizado anteriormente, com a alteração, é claro, da cor, que nesse caso foi o azul (para remeter, logicamente, à água). \n",
    "Nesse, assim como em todos os outros gráficos, foi inserida a ferramenta HoverTool, que faz com que, ao passar o mouse sobre certa parte do gráfico, é indicado o valor do eixo x e do eixo y correspondente. Isso tem o objetivo de auxiliar na identificação dos valores em gráficos de linha e área, além de também deixar mais agradável a visualização de outros tipos de plots."
   ]
  },
  {
   "cell_type": "code",
   "execution_count": null,
   "metadata": {},
   "outputs": [],
   "source": [
    "show(drowning_fig)"
   ]
  },
  {
   "attachments": {},
   "cell_type": "markdown",
   "metadata": {},
   "source": [
    "Podemos observar uma queda no número de mortes, mesmo considerável o já comentado aumento na população global. Essa redução pode ser explicada pelo aumento das tecnologias de monitoramento oceânico, a ampliação no número de profissionais salva-vidas em praias, etc."
   ]
  },
  {
   "attachments": {},
   "cell_type": "markdown",
   "metadata": {},
   "source": [
    "# Gráficos Brasil"
   ]
  },
  {
   "attachments": {},
   "cell_type": "markdown",
   "metadata": {},
   "source": [
    "### Gráficos das 10 doenças que mais mataram no Brasil\n",
    "Após saber quais foram as doenças que mataram em cada continente,algo que nos provocou a curiosidade foi saber quais doenças mais mataram no Brasil.\n",
    "Esse gráfico mostra quais são as 10 doenças que mais matam no Brasil.\n",
    "A escolha de um heatmap ao invés de um gráfico de linhas de deu pelo fato nosso objetivo não ser mostrar a evolução ao longo do tempo mas sim chamar a atenção para o fato de o maior problema que matou no Brasil foram doenças realacionadas ao coração, sendo que representa quase o dobro de casos a mais por ano.\n",
    "Além disso, foi adicionado a interatividade para o leitor poder visualizar o quanto cada doença matou a cada ano"
   ]
  },
  {
   "cell_type": "code",
   "execution_count": null,
   "metadata": {},
   "outputs": [],
   "source": [
    "show(heatmap)"
   ]
  },
  {
   "attachments": {},
   "cell_type": "markdown",
   "metadata": {},
   "source": [
    "### Gráfico analisando a morte a Cada 100k de habitantes\n",
    "\n",
    "Numa primeira análise de dados, foi analisado o número de mortes a cada ano, e a população a cada ano. Ambos os dados cresceram. \n",
    "De modo a investigar um pouco mais, achamos o número de mortes a cada 100k habitantes e plotamos os gráficos.\n",
    "O que nos apareceu foi um gráfico não muito comum, pois a média começa de certo modo meio alta, abaixava ao longo de 1999 até 2007 e após isso começa a crescer muito. Mas ambos os outros gráficos cresciam, então isso nos gerou uma dúvida: Porquê?\n",
    "\n",
    "De modo a responder isso, fizemos o último gráfico que nos mostra a diferença entre a variação percentual da população e a variação percentual do número de mortes. E começa a ficar claro que, todas as vezes que a diferença entre a variação da população e a variação do número de mortes era positivo, o núemro de mortes caia, ja quando esse valor era negativo, o valor diminuia. Assim, mesmo que ambos os gráficos cresçam o número de mortes a cada 100k habitantes pode diminuir, basta uma variação seja percentualmente mairo que a outra\n",
    "\n",
    "Os gráficos escolhidos foram 3 de linhas, pois gostaríamos de mostrar a relação ao longo do tempo, e o último foi um gráfico de barras pois nossa principal ideia, não era passar uma ideia de evoluação ao longo do tempo, mas sim a relação de que quando a diferença era positiva, era algo bom pois o número de mortes cairia, já quando a diferença era negativa, era algo ruim pois o número de mortes subiria. Assim as cores também foram utilizadas para levar o leitor para uma interpretação correta do grid."
   ]
  },
  {
   "cell_type": "code",
   "execution_count": null,
   "metadata": {},
   "outputs": [],
   "source": [
    "show(combinados)"
   ]
  }
 ],
 "metadata": {
  "kernelspec": {
   "display_name": "Python 3",
   "language": "python",
   "name": "python3"
  },
  "language_info": {
   "codemirror_mode": {
    "name": "ipython",
    "version": 3
   },
   "file_extension": ".py",
   "mimetype": "text/x-python",
   "name": "python",
   "nbconvert_exporter": "python",
   "pygments_lexer": "ipython3",
   "version": "3.11.3"
  },
  "orig_nbformat": 4
 },
 "nbformat": 4,
 "nbformat_minor": 2
}
